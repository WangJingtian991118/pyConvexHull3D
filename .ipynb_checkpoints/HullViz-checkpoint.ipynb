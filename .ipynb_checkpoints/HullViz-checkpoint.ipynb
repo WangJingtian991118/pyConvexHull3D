{
 "cells": [
  {
   "cell_type": "code",
   "execution_count": 17,
   "metadata": {
    "collapsed": true
   },
   "outputs": [],
   "source": [
    "from dcel import DCEL, Vertex, hEdge, Face\n",
    "import numpy as np\n",
    "from numpy import dot, cross\n",
    "from operator import add\n",
    "from itertools import cycle, islice, permutations, combinations\n",
    "from collections import deque\n"
   ]
  },
  {
   "cell_type": "code",
   "execution_count": 16,
   "metadata": {
    "collapsed": false
   },
   "outputs": [
    {
     "name": "stdout",
     "output_type": "stream",
     "text": [
      "1         2         3         \n"
     ]
    }
   ],
   "source": [
    "print(\"{:<10}\"*3.format(1, 2, 3))"
   ]
  },
  {
   "cell_type": "code",
   "execution_count": 18,
   "metadata": {
    "collapsed": false
   },
   "outputs": [
    {
     "name": "stdout",
     "output_type": "stream",
     "text": [
      "Expected Order\n",
      "v0 (-6, -1, -8) : \the0\n",
      "v1 (8, 4, -1) : \the1\n",
      "v2 (-3, 0, 8) : \the2\n",
      "v3 (-8, -3, 0) : \tNone\n",
      "he0 : \tv0 (-6, -1, -8) \the5 \tf0 \tNone \tNone\n",
      "he1 : \tv1 (8, 4, -1) \the4 \tf0 \tNone \tNone\n",
      "he2 : \tv2 (-3, 0, 8) \the3 \tf0 \tNone \tNone\n",
      "he3 : \tv0 (-6, -1, -8) \the2 \tNone \tNone \tNone\n",
      "he4 : \tv2 (-3, 0, 8) \the1 \tNone \tNone \tNone\n",
      "he5 : \tv1 (8, 4, -1) \the0 \tNone \tNone \tNone\n",
      "f0 : \the0\n",
      "\n"
     ]
    }
   ],
   "source": [
    "d = DCEL()\n",
    "\n",
    "# create vertices\n",
    "pts = np.random.randint(-10, 10, (10,3))\n",
    "\n",
    "v0, v1, v2, v3 = tuple(d.createVertex(*pts[i]) for i in range(4))\n",
    " \n",
    "if dot(cross(v1-v0, v2-v1), v0-v3) < 0:\n",
    "    vertices = (v0, v1, v2)\n",
    "    print(\"Expected Order\")\n",
    "else:\n",
    "    vertices = (v0, v2, v1)\n",
    "    print(\"Unexpected Order\")\n",
    "\n",
    "# create first triangle face and all edges + twins\n",
    "face = d.createFace()\n",
    "hedges = [d.createHedge() for _ in range(6)]\n",
    "      \n",
    "face.outerComponent = hedges[0]\n",
    "# first three hedges belong to face\n",
    "for h, v in zip(hedges[:3], vertices):\n",
    "    h.incidentFace = face\n",
    "    v.incidentEdge = h\n",
    "    \n",
    "for h, _h, v in zip(hedges, hedges[::-1], sum(permutations(vertices, 3), ())):\n",
    "    h.origin = v\n",
    "    h.twin = _h\n",
    "\n",
    "#for i in range(3):\n",
    "#    h, _h, h_ = tuple(dequ)\n",
    "\n",
    "print(d)\n",
    "#deqA, deqB = deque(hedges[:3]), deque(hedges[:3])"
   ]
  },
  {
   "cell_type": "code",
   "execution_count": 7,
   "metadata": {
    "collapsed": false
   },
   "outputs": [
    {
     "ename": "IndexError",
     "evalue": "tuple index out of range",
     "output_type": "error",
     "traceback": [
      "\u001b[0;31m---------------------------------------------------------------------------\u001b[0m",
      "\u001b[0;31mIndexError\u001b[0m                                Traceback (most recent call last)",
      "\u001b[0;32m<ipython-input-7-9909575fff82>\u001b[0m in \u001b[0;36m<module>\u001b[0;34m()\u001b[0m\n\u001b[0;32m----> 1\u001b[0;31m \u001b[0mprint\u001b[0m\u001b[0;34m(\u001b[0m\u001b[0md\u001b[0m\u001b[0;34m)\u001b[0m\u001b[0;34m\u001b[0m\u001b[0m\n\u001b[0m",
      "\u001b[0;32m/home/ross/Documents/DU_Courses/Autumn_CompGeometry/project/try_pydcel/dcel.py\u001b[0m in \u001b[0;36m__repr__\u001b[0;34m(self)\u001b[0m\n\u001b[1;32m    179\u001b[0m             \u001b[0ms\u001b[0m \u001b[0;34m+=\u001b[0m \u001b[0;34m\"{} : \\t{} \\t{} \\t{} \\t{} \\t{}\\n\"\u001b[0m\u001b[0;34m.\u001b[0m\u001b[0mformat\u001b[0m\u001b[0;34m(\u001b[0m\u001b[0me\u001b[0m\u001b[0;34m,\u001b[0m \u001b[0me\u001b[0m\u001b[0;34m.\u001b[0m\u001b[0morigin\u001b[0m\u001b[0;34m,\u001b[0m \u001b[0me\u001b[0m\u001b[0;34m.\u001b[0m\u001b[0mtwin\u001b[0m\u001b[0;34m,\u001b[0m \u001b[0me\u001b[0m\u001b[0;34m.\u001b[0m\u001b[0mincidentFace\u001b[0m\u001b[0;34m,\u001b[0m \u001b[0me\u001b[0m\u001b[0;34m.\u001b[0m\u001b[0mnext\u001b[0m\u001b[0;34m,\u001b[0m \u001b[0me\u001b[0m\u001b[0;34m.\u001b[0m\u001b[0mprevious\u001b[0m\u001b[0;34m)\u001b[0m\u001b[0;34m\u001b[0m\u001b[0m\n\u001b[1;32m    180\u001b[0m         \u001b[0;32mfor\u001b[0m \u001b[0mf\u001b[0m \u001b[0;32min\u001b[0m \u001b[0mself\u001b[0m\u001b[0;34m.\u001b[0m\u001b[0mfaceList\u001b[0m\u001b[0;34m:\u001b[0m\u001b[0;34m\u001b[0m\u001b[0m\n\u001b[0;32m--> 181\u001b[0;31m             \u001b[0ms\u001b[0m \u001b[0;34m+=\u001b[0m \u001b[0;34m\"{} : \\t{}\\n\"\u001b[0m\u001b[0;34m.\u001b[0m\u001b[0mformat\u001b[0m\u001b[0;34m(\u001b[0m\u001b[0mf\u001b[0m\u001b[0;34m,\u001b[0m \u001b[0mf\u001b[0m\u001b[0;34m.\u001b[0m\u001b[0mouterComponent\u001b[0m\u001b[0;34m)\u001b[0m\u001b[0;34m\u001b[0m\u001b[0m\n\u001b[0m\u001b[1;32m    182\u001b[0m         \u001b[0;32mreturn\u001b[0m \u001b[0ms\u001b[0m\u001b[0;34m\u001b[0m\u001b[0m\n\u001b[1;32m    183\u001b[0m \u001b[0;34m\u001b[0m\u001b[0m\n",
      "\u001b[0;31mIndexError\u001b[0m: tuple index out of range"
     ]
    }
   ],
   "source": []
  },
  {
   "cell_type": "code",
   "execution_count": 4,
   "metadata": {
    "collapsed": false
   },
   "outputs": [
    {
     "name": "stdout",
     "output_type": "stream",
     "text": [
      "v0 (5, -5, -5) : \tNone\n",
      "v1 (-1, -2, 8) : \tNone\n",
      "v2 (1, 9, -4) : \tNone\n",
      "v3 (-10, -7, 6) : \tNone\n",
      "he0 : \tv0 (5, -5, -5) \the5 \tf0 \the1 \the2\n",
      "he1 : \tv1 (-1, -2, 8) \the4 \tf0 \the2 \the0\n",
      "he2 : \tv2 (1, 9, -4) \the3 \tf0 \the0 \the1\n",
      "he3 : \tv0 (5, -5, -5) \the2 \tNone \the4 \the5\n",
      "he4 : \tv2 (1, 9, -4) \the1 \tNone \the5 \the3\n",
      "he5 : \tv1 (-1, -2, 8) \the0 \tNone \the3 \the4\n",
      "f0 : \the0\n",
      "\n"
     ]
    },
    {
     "ename": "AttributeError",
     "evalue": "'DCEL' object has no attribute 'hedgeList'",
     "output_type": "error",
     "traceback": [
      "\u001b[0;31m---------------------------------------------------------------------------\u001b[0m",
      "\u001b[0;31mAttributeError\u001b[0m                            Traceback (most recent call last)",
      "\u001b[0;32m<ipython-input-4-836613fcf7a3>\u001b[0m in \u001b[0;36m<module>\u001b[0;34m()\u001b[0m\n\u001b[1;32m      9\u001b[0m \u001b[0mprint\u001b[0m\u001b[0;34m(\u001b[0m\u001b[0md\u001b[0m\u001b[0;34m)\u001b[0m\u001b[0;34m\u001b[0m\u001b[0m\n\u001b[1;32m     10\u001b[0m \u001b[0;34m\u001b[0m\u001b[0m\n\u001b[0;32m---> 11\u001b[0;31m \u001b[0;32mfor\u001b[0m \u001b[0mh\u001b[0m\u001b[0;34m,\u001b[0m \u001b[0mh1\u001b[0m \u001b[0;32min\u001b[0m \u001b[0mzip\u001b[0m\u001b[0;34m(\u001b[0m\u001b[0mhedges\u001b[0m\u001b[0;34m,\u001b[0m \u001b[0md\u001b[0m\u001b[0;34m.\u001b[0m\u001b[0mhedgeList\u001b[0m\u001b[0;34m)\u001b[0m\u001b[0;34m:\u001b[0m\u001b[0;34m\u001b[0m\u001b[0m\n\u001b[0m\u001b[1;32m     12\u001b[0m     \u001b[0mprint\u001b[0m\u001b[0;34m(\u001b[0m\u001b[0mh\u001b[0m\u001b[0;34m,\u001b[0m \u001b[0mh\u001b[0m\u001b[0;34m.\u001b[0m\u001b[0mnext\u001b[0m\u001b[0;34m,\u001b[0m \u001b[0mh\u001b[0m\u001b[0;34m.\u001b[0m\u001b[0mprevious\u001b[0m\u001b[0;34m)\u001b[0m\u001b[0;34m\u001b[0m\u001b[0m\n\u001b[1;32m     13\u001b[0m     \u001b[0mprint\u001b[0m\u001b[0;34m(\u001b[0m\u001b[0mh1\u001b[0m\u001b[0;34m,\u001b[0m \u001b[0mh1\u001b[0m\u001b[0;34m.\u001b[0m\u001b[0mnext\u001b[0m\u001b[0;34m,\u001b[0m \u001b[0mh1\u001b[0m\u001b[0;34m.\u001b[0m\u001b[0mprevious\u001b[0m\u001b[0;34m)\u001b[0m\u001b[0;34m\u001b[0m\u001b[0m\n",
      "\u001b[0;31mAttributeError\u001b[0m: 'DCEL' object has no attribute 'hedgeList'"
     ]
    }
   ],
   "source": [
    "deqA, deqB = deque(hedges[:3]), deque(hedges[3:])\n",
    "for _ in range(3):\n",
    "    for deq in [deqA, deqB]:\n",
    "        h, h_, _h = tuple(deq)\n",
    "        h.next = h_\n",
    "        h.previous = _h\n",
    "        deq.rotate(1)\n",
    "\n",
    "print(d)\n",
    "        \n",
    "for h, h1 in zip(hedges, d.hedgeList):\n",
    "    print(h, h.next, h.previous)\n",
    "    print(h1, h1.next, h1.previous)"
   ]
  },
  {
   "cell_type": "code",
   "execution_count": null,
   "metadata": {
    "collapsed": false
   },
   "outputs": [],
   "source": []
  },
  {
   "cell_type": "code",
   "execution_count": null,
   "metadata": {
    "collapsed": false
   },
   "outputs": [],
   "source": [
    "class h():\n",
    "    def __init__(self, i):\n",
    "        self.i = i\n",
    "        self.twin = None\n",
    "        return\n",
    "    \n",
    "h0, h1 = tuple(h(i) for i in range(2))\n",
    "h0.twin, h1.twin = h1, h0\n",
    "print(h0.i, h0.twin.i, h1.i, h1.twin.i)"
   ]
  },
  {
   "cell_type": "code",
   "execution_count": null,
   "metadata": {
    "collapsed": false
   },
   "outputs": [],
   "source": [
    "import mpl_toolkits.mplot3d as mpl_3D\n",
    "import matplotlib.colors as colors\n",
    "import matplotlib.pyplot as plt\n",
    "#import pylab as pl\n",
    "import scipy as sp\n",
    "\n",
    "ax = mpl_3D.Axes3D(plt.figure(figsize=[20,15]))\n",
    "for i in range(10):\n",
    "    vtx = sp.rand(3,3)\n",
    "    tri = mpl_3D.art3d.Poly3DCollection([vtx])\n",
    "    tri.set_color(colors.rgb2hex(sp.rand(3)))\n",
    "    tri.set_edgecolor('k')\n",
    "    tri.set_alpha(0.2)\n",
    "    ax.add_collection3d(tri)\n",
    "\n",
    "#plt.savefig('testfig.png', bbox_inches='tight')\n",
    "plt.show()"
   ]
  },
  {
   "cell_type": "code",
   "execution_count": null,
   "metadata": {
    "collapsed": false
   },
   "outputs": [],
   "source": [
    "sp.rand(3,3)"
   ]
  },
  {
   "cell_type": "code",
   "execution_count": null,
   "metadata": {
    "collapsed": false
   },
   "outputs": [],
   "source": [
    "a-b"
   ]
  },
  {
   "cell_type": "code",
   "execution_count": null,
   "metadata": {
    "collapsed": true
   },
   "outputs": [],
   "source": []
  }
 ],
 "metadata": {
  "kernelspec": {
   "display_name": "Python 3",
   "language": "python",
   "name": "python3"
  },
  "language_info": {
   "codemirror_mode": {
    "name": "ipython",
    "version": 3
   },
   "file_extension": ".py",
   "mimetype": "text/x-python",
   "name": "python",
   "nbconvert_exporter": "python",
   "pygments_lexer": "ipython3",
   "version": "3.6.0"
  }
 },
 "nbformat": 4,
 "nbformat_minor": 2
}
