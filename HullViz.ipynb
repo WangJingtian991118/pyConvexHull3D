{
 "cells": [
  {
   "cell_type": "code",
   "execution_count": 1,
   "metadata": {
    "collapsed": false
   },
   "outputs": [],
   "source": [
    "from dcel import DCEL, Vertex, hEdge, Face\n",
    "from hull3D import ConvexHull3D\n",
    "import numpy as np\n",
    "from numpy import dot, cross\n",
    "from operator import add\n",
    "from itertools import cycle, islice, permutations, combinations\n",
    "from collections import deque\n"
   ]
  },
  {
   "cell_type": "code",
   "execution_count": 41,
   "metadata": {
    "collapsed": false
   },
   "outputs": [
    {
     "name": "stdout",
     "output_type": "stream",
     "text": [
      "Expected Order\n",
      "Face normal:  (10, 4, -64)\n",
      "VERTEX \t\t\tincidentEdge\n",
      "v0 (3, 0, 4):\t\the0\n",
      "v1 (-1, -6, 3):\t\the1\n",
      "v2 (-5, 4, 3):\t\the2\n",
      "v3 (9, 9, 0):\t\tNone\n",
      "\n",
      "hEDGE \torigin\ttwin\tface\tnext\tprevious\n",
      "he0:\t v0\the5\tf0\the1\the2\n",
      "he1:\t v1\the4\tf0\the2\the0\n",
      "he2:\t v2\the3\tf0\the0\the1\n",
      "he3:\t v0\the2\tNone\the4\the5\n",
      "he4:\t v2\the1\tNone\the5\the3\n",
      "he5:\t v1\the0\tNone\the3\the4\n",
      "\n",
      "FACE \touterComponent\n",
      "f0:\the0\n",
      " \n",
      "\n",
      "{0: False}\n"
     ]
    }
   ],
   "source": [
    "pts = np.random.randint(-10, 10, (10,3))\n",
    "\n",
    "d = DCEL()\n",
    "v0, v1, v2, v3 = tuple(d.createVertex(*pts[i]) for i in range(4))\n",
    "if dot(cross(v1-v0, v2-v1), v0-v3) < 0:\n",
    "    vertices = (v0, v1, v2)\n",
    "    print(\"Expected Order\")\n",
    "elif dot(cross(v1-v0, v2-v1), v0-v3) == 0:\n",
    "    print(\"COPLANAR\")\n",
    "else:\n",
    "    vertices = (v0, v2, v1)\n",
    "    print(\"Unexpected Order\")\n",
    "\n",
    "hull = ConvexHull3D(pts=pts)"
   ]
  },
  {
   "cell_type": "code",
   "execution_count": 3,
   "metadata": {
    "collapsed": false
   },
   "outputs": [
    {
     "name": "stdout",
     "output_type": "stream",
     "text": [
      "Unexpected Order\n"
     ]
    }
   ],
   "source": [
    "d = DCEL()\n",
    "\n",
    "# create vertices\n",
    "pts = np.random.randint(-10, 10, (10,3))\n",
    "\n",
    "v0, v1, v2, v3 = tuple(d.createVertex(*pts[i]) for i in range(4))\n",
    " \n",
    "if dot(cross(v1-v0, v2-v1), v0-v3) < 0:\n",
    "    vertices = (v0, v1, v2)\n",
    "    print(\"Expected Order\")\n",
    "else:\n",
    "    vertices = (v0, v2, v1)\n",
    "    print(\"Unexpected Order\")\n",
    "\n",
    "# create first triangle face and all edges + twins\n",
    "face = d.createFace()\n",
    "hedges = [d.createHedge() for _ in range(6)]\n",
    "      \n",
    "face.outerComponent = hedges[0]\n",
    "# first three hedges belong to face\n",
    "for h, v in zip(hedges[:3], vertices):\n",
    "    h.incidentFace = face\n",
    "    v.incidentEdge = h\n",
    "    \n",
    "for h, _h, v in zip(hedges, hedges[::-1], sum(permutations(vertices, 3), ())):\n",
    "    h.origin = v\n",
    "    h.twin = _h"
   ]
  },
  {
   "cell_type": "code",
   "execution_count": 4,
   "metadata": {
    "collapsed": false
   },
   "outputs": [
    {
     "name": "stdout",
     "output_type": "stream",
     "text": [
      "VERTEX \t\t\tincidentEdge\n",
      "v0 (5, -5, 5):\t\the0\n",
      "v1 (7, -4, 9):\t\the2\n",
      "v2 (-4, -7, -4):\t\the1\n",
      "v3 (5, 9, 6):\t\tNone\n",
      "\n",
      "hEDGE \torigin\ttwin\tface\tnext\tprevious\n",
      "he0:\t v0\the5\tf0\tNone\tNone\n",
      "he1:\t v2\the4\tf0\tNone\tNone\n",
      "he2:\t v1\the3\tf0\tNone\tNone\n",
      "he3:\t v0\the2\tNone\tNone\tNone\n",
      "he4:\t v1\the1\tNone\tNone\tNone\n",
      "he5:\t v2\the0\tNone\tNone\tNone\n",
      "\n",
      "FACE \touterComponent\n",
      "f0:\the0\n",
      "\n"
     ]
    }
   ],
   "source": [
    "print(d)"
   ]
  },
  {
   "cell_type": "code",
   "execution_count": 5,
   "metadata": {
    "collapsed": false
   },
   "outputs": [
    {
     "data": {
      "text/plain": [
       "(1, 2, 3)"
      ]
     },
     "execution_count": 5,
     "metadata": {},
     "output_type": "execute_result"
    }
   ],
   "source": [
    "#dot(np.array[1,2,3], v1-v2)\n",
    "tuple(np.array([1,2,3]))"
   ]
  },
  {
   "cell_type": "code",
   "execution_count": 6,
   "metadata": {
    "collapsed": false
   },
   "outputs": [
    {
     "name": "stdout",
     "output_type": "stream",
     "text": [
      "0 None\n"
     ]
    }
   ],
   "source": [
    "for f in d.faceDict.values():\n",
    "    print(f.identifier, f.normal)"
   ]
  },
  {
   "cell_type": "code",
   "execution_count": 7,
   "metadata": {
    "collapsed": false
   },
   "outputs": [
    {
     "ename": "SyntaxError",
     "evalue": "invalid syntax (<ipython-input-7-44cfd08f2c1a>, line 2)",
     "output_type": "error",
     "traceback": [
      "\u001b[0;36m  File \u001b[0;32m\"<ipython-input-7-44cfd08f2c1a>\"\u001b[0;36m, line \u001b[0;32m2\u001b[0m\n\u001b[0;31m    dct.\u001b[0m\n\u001b[0m        ^\u001b[0m\n\u001b[0;31mSyntaxError\u001b[0m\u001b[0;31m:\u001b[0m invalid syntax\n"
     ]
    }
   ],
   "source": [
    "dct = {0:'a', 2:'b'}\n",
    "dct."
   ]
  },
  {
   "cell_type": "code",
   "execution_count": null,
   "metadata": {
    "collapsed": false
   },
   "outputs": [],
   "source": [
    "import mpl_toolkits.mplot3d as mpl_3D\n",
    "import matplotlib.colors as colors\n",
    "import matplotlib.pyplot as plt\n",
    "#import pylab as pl\n",
    "import scipy as sp\n",
    "\n",
    "ax = mpl_3D.Axes3D(plt.figure(figsize=[20,15]))\n",
    "#for i in range(10):\n",
    "#vtx = sp.rand(3,3)\n",
    "tri0 = mpl_3D.art3d.Poly3DCollection([[list(v.p()) for v in [v0,v1,v2]]])\n",
    "tri1 = mpl_3D.art3d.Poly3DCollection([[list(v.p()) for v in [v0,v1,v3]]])\n",
    "tri2 = mpl_3D.art3d.Poly3DCollection([[list(v.p()) for v in [v1,v2,v3]]])\n",
    "tri3 = mpl_3D.art3d.Poly3DCollection([[list(v.p()) for v in [v0,v2,v3]]])\n",
    "\n",
    "for tri in [tri0, tri1, tri2, tri3]:\n",
    "    tri.set_color(colors.rgb2hex(sp.rand(3)))\n",
    "    tri.set_edgecolor('k')\n",
    "    tri.set_alpha(0.2)\n",
    "    ax.add_collection3d(tri)\n",
    "\n",
    "ax.set_xlim([-10,10])\n",
    "ax.set_ylim([-10,10])\n",
    "ax.set_zlim([-10,10])\n",
    "\n",
    "#plt.savefig('testfig.png', bbox_inches='tight')\n",
    "plt.show()"
   ]
  },
  {
   "cell_type": "code",
   "execution_count": null,
   "metadata": {
    "collapsed": false
   },
   "outputs": [],
   "source": []
  },
  {
   "cell_type": "code",
   "execution_count": null,
   "metadata": {
    "collapsed": false
   },
   "outputs": [],
   "source": [
    "[sp.rand(3,3)]"
   ]
  },
  {
   "cell_type": "code",
   "execution_count": null,
   "metadata": {
    "collapsed": true
   },
   "outputs": [],
   "source": []
  }
 ],
 "metadata": {
  "kernelspec": {
   "display_name": "Python 3",
   "language": "python",
   "name": "python3"
  },
  "language_info": {
   "codemirror_mode": {
    "name": "ipython",
    "version": 3
   },
   "file_extension": ".py",
   "mimetype": "text/x-python",
   "name": "python",
   "nbconvert_exporter": "python",
   "pygments_lexer": "ipython3",
   "version": "3.6.0"
  }
 },
 "nbformat": 4,
 "nbformat_minor": 2
}
