{
 "cells": [
  {
   "cell_type": "code",
   "execution_count": 1,
   "metadata": {
    "collapsed": false
   },
   "outputs": [],
   "source": [
    "from dcel import DCEL, Vertex, hEdge, Face\n",
    "from hull3D import ConvexHull3D, preprocess, colinear\n",
    "import numpy as np\n",
    "from scipy import spatial\n"
   ]
  },
  {
   "cell_type": "code",
   "execution_count": 2,
   "metadata": {
    "collapsed": false
   },
   "outputs": [
    {
     "name": "stdout",
     "output_type": "stream",
     "text": [
      "Vertices in hull:  29\n",
      "Vertices according to scipy:  29\n",
      "My Hull is superset of QHULL:  True\n"
     ]
    }
   ],
   "source": [
    "pts = np.random.randint(-100,10, (100,3))\n",
    "    \n",
    "hull = ConvexHull3D(pts=pts, make_frames=True)\n",
    "hull.generateImage()\n",
    "print(\"Vertices in hull: \", len(hull.getVertexIndices()))\n",
    "\n",
    "pts = hull.getPts()\n",
    "scipy_hull = spatial.ConvexHull(pts)\n",
    "print(\"Vertices according to scipy: \", len(scipy_hull.vertices))\n",
    "\n",
    "mine = set(hull.getVertexIndices())\n",
    "qhull = set(scipy_hull.vertices)\n",
    "print(\"My Hull is superset of QHULL: \", mine.issuperset(qhull))"
   ]
  },
  {
   "cell_type": "code",
   "execution_count": 3,
   "metadata": {
    "collapsed": false
   },
   "outputs": [
    {
     "data": {
      "text/plain": [
       "array([ 0,  1,  2,  3,  4,  5,  7, 10, 11, 12, 14, 17, 18, 20, 23, 43, 54,\n",
       "       55, 68, 70, 71, 78, 80, 82, 87, 93, 94, 96, 99])"
      ]
     },
     "execution_count": 3,
     "metadata": {},
     "output_type": "execute_result"
    }
   ],
   "source": [
    "np.array(hull.getVertexIndices())"
   ]
  },
  {
   "cell_type": "code",
   "execution_count": 4,
   "metadata": {
    "collapsed": false
   },
   "outputs": [
    {
     "data": {
      "text/plain": [
       "array([ 0,  1,  2,  3,  4,  5,  7, 10, 11, 12, 14, 17, 18, 20, 23, 43, 54,\n",
       "       55, 68, 70, 71, 78, 80, 82, 87, 93, 94, 96, 99], dtype=int32)"
      ]
     },
     "execution_count": 4,
     "metadata": {},
     "output_type": "execute_result"
    }
   ],
   "source": [
    "scipy_hull.vertices"
   ]
  },
  {
   "cell_type": "code",
   "execution_count": 5,
   "metadata": {
    "collapsed": false
   },
   "outputs": [],
   "source": [
    "me = set(hull.getVertexIndices())\n",
    "qhull = set(scipy_hull.vertices)"
   ]
  },
  {
   "cell_type": "code",
   "execution_count": 6,
   "metadata": {
    "collapsed": false
   },
   "outputs": [
    {
     "data": {
      "text/plain": [
       "True"
      ]
     },
     "execution_count": 6,
     "metadata": {},
     "output_type": "execute_result"
    }
   ],
   "source": [
    "me.issuperset(qhull)"
   ]
  },
  {
   "cell_type": "code",
   "execution_count": null,
   "metadata": {
    "collapsed": false
   },
   "outputs": [],
   "source": []
  }
 ],
 "metadata": {
  "kernelspec": {
   "display_name": "Python 3",
   "language": "python",
   "name": "python3"
  },
  "language_info": {
   "codemirror_mode": {
    "name": "ipython",
    "version": 3
   },
   "file_extension": ".py",
   "mimetype": "text/x-python",
   "name": "python",
   "nbconvert_exporter": "python",
   "pygments_lexer": "ipython3",
   "version": "3.6.0"
  }
 },
 "nbformat": 4,
 "nbformat_minor": 2
}
